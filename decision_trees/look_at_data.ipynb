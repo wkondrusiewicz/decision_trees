{
 "cells": [
  {
   "cell_type": "code",
   "execution_count": 1,
   "metadata": {},
   "outputs": [],
   "source": [
    "import numpy as np\n",
    "import pandas as pd\n",
    "from collections import Counter, defaultdict"
   ]
  },
  {
   "cell_type": "code",
   "execution_count": 2,
   "metadata": {},
   "outputs": [],
   "source": [
    "data = np.loadtxt('wifi_localization.txt')"
   ]
  },
  {
   "cell_type": "code",
   "execution_count": 43,
   "metadata": {},
   "outputs": [],
   "source": [
    "class Node:\n",
    "    def __init__(self, gini):\n",
    "        self.gini = gini\n",
    "        self.feature_index = 0\n",
    "        self.threshold = 0\n",
    "        self.left = None\n",
    "        self.right = None"
   ]
  },
  {
   "cell_type": "code",
   "execution_count": 3,
   "metadata": {},
   "outputs": [
    {
     "data": {
      "text/html": [
       "<div>\n",
       "<style scoped>\n",
       "    .dataframe tbody tr th:only-of-type {\n",
       "        vertical-align: middle;\n",
       "    }\n",
       "\n",
       "    .dataframe tbody tr th {\n",
       "        vertical-align: top;\n",
       "    }\n",
       "\n",
       "    .dataframe thead th {\n",
       "        text-align: right;\n",
       "    }\n",
       "</style>\n",
       "<table border=\"1\" class=\"dataframe\">\n",
       "  <thead>\n",
       "    <tr style=\"text-align: right;\">\n",
       "      <th></th>\n",
       "      <th>0</th>\n",
       "      <th>1</th>\n",
       "      <th>2</th>\n",
       "      <th>3</th>\n",
       "      <th>4</th>\n",
       "      <th>5</th>\n",
       "      <th>6</th>\n",
       "      <th>7</th>\n",
       "    </tr>\n",
       "  </thead>\n",
       "  <tbody>\n",
       "    <tr>\n",
       "      <th>count</th>\n",
       "      <td>2000.000000</td>\n",
       "      <td>2000.000000</td>\n",
       "      <td>2000.000000</td>\n",
       "      <td>2000.000000</td>\n",
       "      <td>2000.000000</td>\n",
       "      <td>2000.000000</td>\n",
       "      <td>2000.000000</td>\n",
       "      <td>2000.000000</td>\n",
       "    </tr>\n",
       "    <tr>\n",
       "      <th>mean</th>\n",
       "      <td>-52.330500</td>\n",
       "      <td>-55.623500</td>\n",
       "      <td>-54.964000</td>\n",
       "      <td>-53.566500</td>\n",
       "      <td>-62.640500</td>\n",
       "      <td>-80.985000</td>\n",
       "      <td>-81.726500</td>\n",
       "      <td>2.500000</td>\n",
       "    </tr>\n",
       "    <tr>\n",
       "      <th>std</th>\n",
       "      <td>11.321677</td>\n",
       "      <td>3.417688</td>\n",
       "      <td>5.316186</td>\n",
       "      <td>11.471982</td>\n",
       "      <td>9.105093</td>\n",
       "      <td>6.516672</td>\n",
       "      <td>6.519812</td>\n",
       "      <td>1.118314</td>\n",
       "    </tr>\n",
       "    <tr>\n",
       "      <th>min</th>\n",
       "      <td>-74.000000</td>\n",
       "      <td>-74.000000</td>\n",
       "      <td>-73.000000</td>\n",
       "      <td>-77.000000</td>\n",
       "      <td>-89.000000</td>\n",
       "      <td>-97.000000</td>\n",
       "      <td>-98.000000</td>\n",
       "      <td>1.000000</td>\n",
       "    </tr>\n",
       "    <tr>\n",
       "      <th>25%</th>\n",
       "      <td>-61.000000</td>\n",
       "      <td>-58.000000</td>\n",
       "      <td>-58.000000</td>\n",
       "      <td>-63.000000</td>\n",
       "      <td>-69.000000</td>\n",
       "      <td>-86.000000</td>\n",
       "      <td>-87.000000</td>\n",
       "      <td>1.750000</td>\n",
       "    </tr>\n",
       "    <tr>\n",
       "      <th>50%</th>\n",
       "      <td>-55.000000</td>\n",
       "      <td>-56.000000</td>\n",
       "      <td>-55.000000</td>\n",
       "      <td>-56.000000</td>\n",
       "      <td>-64.000000</td>\n",
       "      <td>-82.000000</td>\n",
       "      <td>-83.000000</td>\n",
       "      <td>2.500000</td>\n",
       "    </tr>\n",
       "    <tr>\n",
       "      <th>75%</th>\n",
       "      <td>-46.000000</td>\n",
       "      <td>-53.000000</td>\n",
       "      <td>-51.000000</td>\n",
       "      <td>-46.000000</td>\n",
       "      <td>-56.000000</td>\n",
       "      <td>-77.000000</td>\n",
       "      <td>-78.000000</td>\n",
       "      <td>3.250000</td>\n",
       "    </tr>\n",
       "    <tr>\n",
       "      <th>max</th>\n",
       "      <td>-10.000000</td>\n",
       "      <td>-45.000000</td>\n",
       "      <td>-40.000000</td>\n",
       "      <td>-11.000000</td>\n",
       "      <td>-36.000000</td>\n",
       "      <td>-61.000000</td>\n",
       "      <td>-63.000000</td>\n",
       "      <td>4.000000</td>\n",
       "    </tr>\n",
       "  </tbody>\n",
       "</table>\n",
       "</div>"
      ],
      "text/plain": [
       "                 0            1            2            3            4  \\\n",
       "count  2000.000000  2000.000000  2000.000000  2000.000000  2000.000000   \n",
       "mean    -52.330500   -55.623500   -54.964000   -53.566500   -62.640500   \n",
       "std      11.321677     3.417688     5.316186    11.471982     9.105093   \n",
       "min     -74.000000   -74.000000   -73.000000   -77.000000   -89.000000   \n",
       "25%     -61.000000   -58.000000   -58.000000   -63.000000   -69.000000   \n",
       "50%     -55.000000   -56.000000   -55.000000   -56.000000   -64.000000   \n",
       "75%     -46.000000   -53.000000   -51.000000   -46.000000   -56.000000   \n",
       "max     -10.000000   -45.000000   -40.000000   -11.000000   -36.000000   \n",
       "\n",
       "                 5            6            7  \n",
       "count  2000.000000  2000.000000  2000.000000  \n",
       "mean    -80.985000   -81.726500     2.500000  \n",
       "std       6.516672     6.519812     1.118314  \n",
       "min     -97.000000   -98.000000     1.000000  \n",
       "25%     -86.000000   -87.000000     1.750000  \n",
       "50%     -82.000000   -83.000000     2.500000  \n",
       "75%     -77.000000   -78.000000     3.250000  \n",
       "max     -61.000000   -63.000000     4.000000  "
      ]
     },
     "execution_count": 3,
     "metadata": {},
     "output_type": "execute_result"
    }
   ],
   "source": [
    "pd.DataFrame(data).describe()"
   ]
  },
  {
   "cell_type": "code",
   "execution_count": 4,
   "metadata": {},
   "outputs": [],
   "source": [
    "X, y = data[:,:-1], data[:,-1]"
   ]
  },
  {
   "cell_type": "code",
   "execution_count": 86,
   "metadata": {},
   "outputs": [],
   "source": [
    "def get_gini_importance(y):\n",
    "    frequencies = np.array([*Counter(y).values()])/len(y)\n",
    "    gini = 1 - np.sum(frequencies**2)\n",
    "    return gini\n",
    "\n",
    "def get_ginis_after_split(X_slice, y, threshold):\n",
    "    left_mask = X_slice < threshold\n",
    "    right_mask = X_slice >= threshold\n",
    "    y_left = y[left_mask]\n",
    "    y_right = y[right_mask]\n",
    "    left_gini = get_gini_importance(y_left)\n",
    "    right_gini = get_gini_importance(y_right)\n",
    "    return (len(y_left) * left_gini + len(y_right) * right_gini) / len(y)\n",
    "\n",
    "def get_best_split_for_feature(X_slice, y_slice):\n",
    "    X_slice_sorted = np.sort(X_slice)\n",
    "    thresholds = np.unique((X_slice_sorted[1:] + X_slice_sorted[:-1])/2)\n",
    "    current_fueature_gini = get_gini_importance(y_slice)\n",
    "    best_gini = current_fueature_gini\n",
    "    best_thresh = None\n",
    "    for thresh in thresholds:\n",
    "        gini = get_ginis_after_split(X_slice, y_slice, thresh)\n",
    "#         print(gini, thresh)\n",
    "        if gini < best_gini:\n",
    "            best_gini = gini\n",
    "            best_thresh = thresh \n",
    "    return best_gini, best_thresh\n",
    "\n",
    "def get_split_for_dataset(X, y):\n",
    "    print(f'previous gini: {get_gini_importance(y)}')\n",
    "    current_fueature_gini = get_gini_importance(y)\n",
    "    best_gini = current_fueature_gini\n",
    "    for i in range(X.shape[1]):\n",
    "        X_slice = X[:, i]\n",
    "        best_gini_for_feature, best_thresh_for_feature = get_best_split_for_feature(X_slice, y)\n",
    "        if best_thresh_for_feature is not None and best_gini_for_feature < best_gini:\n",
    "            best_gini = best_gini_for_feature\n",
    "            best_index = i\n",
    "            best_thresh = best_thresh_for_feature\n",
    "    return best_gini, best_index, best_thresh\n",
    "            \n",
    "def grow_tree(X, y, depth = 0):\n",
    "    current_gini = get_gini_importance(y)\n",
    "    node = Node(gini=current_gini)\n",
    "    if depth < 2:\n",
    "        best_gini, best_index, best_thresh = get_split_for_dataset(X, y)\n",
    "        if best_index is not None and best_thresh is not None:\n",
    "            left_mask = X[:, best_index] < best_thresh\n",
    "            right_mask = X[:, best_index] >= best_thresh\n",
    "            X_left = X[left_mask]\n",
    "            X_right = X[right_mask]\n",
    "            y_left = y[left_mask]\n",
    "            y_right = y[right_mask]\n",
    "            print(depth, best_thresh, best_index, X_right.shape)\n",
    "            node.feature_index=best_index\n",
    "            node.threshold=best_thresh\n",
    "            node.right = grow_tree(X_right, y_right, depth+1)\n",
    "            node.left = grow_tree(X_left, y_left, depth+1)\n",
    "    return node"
   ]
  },
  {
   "cell_type": "code",
   "execution_count": 88,
   "metadata": {},
   "outputs": [
    {
     "name": "stdout",
     "output_type": "stream",
     "text": [
      "previous gini: 0.75\n",
      "0 -54.5 0 (988, 7)\n",
      "previous gini: 0.5029073579307971\n",
      "1 -44.5 0 (450, 7)\n",
      "previous gini: 0.5144881969723007\n",
      "1 -59.5 4 (497, 7)\n"
     ]
    }
   ],
   "source": [
    "tree = grow_tree(X, y)"
   ]
  },
  {
   "cell_type": "code",
   "execution_count": 99,
   "metadata": {},
   "outputs": [
    {
     "name": "stdout",
     "output_type": "stream",
     "text": [
      "0.75 -54.5 0 \n",
      " 0.5144881969723007 -59.5 4 \n",
      "\t 0.056887548308040436 0 0 \n",
      "\t 0.015967029541433808 0 0 \n",
      " 0.5029073579307971 -44.5 0 \n",
      "\t 0.20225674050939035 0 0 \n",
      "\t 0.03492345679012354 0 0 \n",
      "\n"
     ]
    }
   ],
   "source": [
    "print(tree.gini, tree.threshold, tree.feature_index, '\\n',\n",
    "      tree.left.gini, tree.left.threshold, tree.left.feature_index, '\\n\\t',\n",
    "      tree.left.left.gini, tree.left.left.threshold, tree.left.left.feature_index,'\\n\\t',\n",
    "      tree.left.right.gini, tree.left.right.threshold, tree.left.right.feature_index,'\\n',\n",
    "      tree.right.gini, tree.right.threshold, tree.right.feature_index, '\\n\\t', \n",
    "      tree.right.left.gini, tree.right.left.threshold, tree.right.left.feature_index,'\\n\\t',\n",
    "      tree.right.right.gini, tree.right.right.threshold, tree.right.right.feature_index,'\\n',)\n"
   ]
  },
  {
   "cell_type": "code",
   "execution_count": null,
   "metadata": {},
   "outputs": [],
   "source": []
  },
  {
   "cell_type": "code",
   "execution_count": null,
   "metadata": {},
   "outputs": [],
   "source": []
  },
  {
   "cell_type": "code",
   "execution_count": null,
   "metadata": {},
   "outputs": [],
   "source": []
  },
  {
   "cell_type": "code",
   "execution_count": null,
   "metadata": {},
   "outputs": [],
   "source": []
  },
  {
   "cell_type": "code",
   "execution_count": null,
   "metadata": {},
   "outputs": [],
   "source": []
  },
  {
   "cell_type": "code",
   "execution_count": 45,
   "metadata": {},
   "outputs": [
    {
     "name": "stdout",
     "output_type": "stream",
     "text": [
      "previous gini: 0.75\n"
     ]
    },
    {
     "ename": "ValueError",
     "evalue": "too many values to unpack (expected 4)",
     "output_type": "error",
     "traceback": [
      "\u001b[0;31m---------------------------------------------------------------------------\u001b[0m",
      "\u001b[0;31mValueError\u001b[0m                                Traceback (most recent call last)",
      "\u001b[0;32m<ipython-input-45-833a18b0d423>\u001b[0m in \u001b[0;36m<module>\u001b[0;34m\u001b[0m\n\u001b[0;32m----> 1\u001b[0;31m \u001b[0mbest_gini\u001b[0m\u001b[0;34m,\u001b[0m \u001b[0mbest_index\u001b[0m\u001b[0;34m,\u001b[0m \u001b[0mleft_mask\u001b[0m\u001b[0;34m,\u001b[0m \u001b[0mright_mask\u001b[0m \u001b[0;34m=\u001b[0m \u001b[0mget_split_for_dataset\u001b[0m\u001b[0;34m(\u001b[0m\u001b[0mX\u001b[0m\u001b[0;34m,\u001b[0m \u001b[0my\u001b[0m\u001b[0;34m)\u001b[0m\u001b[0;34m\u001b[0m\u001b[0;34m\u001b[0m\u001b[0m\n\u001b[0m\u001b[1;32m      2\u001b[0m \u001b[0mprint\u001b[0m\u001b[0;34m(\u001b[0m\u001b[0mbest_gini\u001b[0m\u001b[0;34m,\u001b[0m \u001b[0mbest_index\u001b[0m\u001b[0;34m,\u001b[0m \u001b[0mlen\u001b[0m\u001b[0;34m(\u001b[0m\u001b[0mX\u001b[0m\u001b[0;34m[\u001b[0m\u001b[0mleft_mask\u001b[0m\u001b[0;34m]\u001b[0m\u001b[0;34m)\u001b[0m\u001b[0;34m)\u001b[0m\u001b[0;34m\u001b[0m\u001b[0;34m\u001b[0m\u001b[0m\n\u001b[1;32m      3\u001b[0m \u001b[0mbest_gini2\u001b[0m\u001b[0;34m,\u001b[0m \u001b[0mbest_index2\u001b[0m\u001b[0;34m,\u001b[0m \u001b[0mleft_mask2\u001b[0m\u001b[0;34m,\u001b[0m \u001b[0mright_mask2\u001b[0m \u001b[0;34m=\u001b[0m \u001b[0mget_split_for_dataset\u001b[0m\u001b[0;34m(\u001b[0m\u001b[0mX\u001b[0m\u001b[0;34m,\u001b[0m \u001b[0my\u001b[0m\u001b[0;34m[\u001b[0m\u001b[0mleft_mask\u001b[0m\u001b[0;34m]\u001b[0m\u001b[0;34m)\u001b[0m\u001b[0;34m\u001b[0m\u001b[0;34m\u001b[0m\u001b[0m\n\u001b[1;32m      4\u001b[0m \u001b[0mprint\u001b[0m\u001b[0;34m(\u001b[0m\u001b[0mbest_gini2\u001b[0m\u001b[0;34m,\u001b[0m \u001b[0mbest_index2\u001b[0m\u001b[0;34m,\u001b[0m \u001b[0mlen\u001b[0m\u001b[0;34m(\u001b[0m\u001b[0mX\u001b[0m\u001b[0;34m[\u001b[0m\u001b[0mleft_mask\u001b[0m\u001b[0;34m]\u001b[0m\u001b[0;34m[\u001b[0m\u001b[0mleft_mask2\u001b[0m\u001b[0;34m]\u001b[0m\u001b[0;34m)\u001b[0m\u001b[0;34m)\u001b[0m\u001b[0;34m\u001b[0m\u001b[0;34m\u001b[0m\u001b[0m\n\u001b[1;32m      5\u001b[0m \u001b[0mbest_gini3\u001b[0m\u001b[0;34m,\u001b[0m \u001b[0mbest_index3\u001b[0m\u001b[0;34m,\u001b[0m \u001b[0mleft_mask3\u001b[0m\u001b[0;34m,\u001b[0m \u001b[0mright_mask3\u001b[0m \u001b[0;34m=\u001b[0m \u001b[0mget_split_for_dataset\u001b[0m\u001b[0;34m(\u001b[0m\u001b[0mX\u001b[0m\u001b[0;34m[\u001b[0m\u001b[0mleft_mask\u001b[0m\u001b[0;34m]\u001b[0m\u001b[0;34m[\u001b[0m\u001b[0mleft_mask2\u001b[0m\u001b[0;34m]\u001b[0m\u001b[0;34m,\u001b[0m \u001b[0my\u001b[0m\u001b[0;34m[\u001b[0m\u001b[0mleft_mask\u001b[0m\u001b[0;34m]\u001b[0m\u001b[0;34m[\u001b[0m\u001b[0mleft_mask2\u001b[0m\u001b[0;34m]\u001b[0m\u001b[0;34m)\u001b[0m\u001b[0;34m\u001b[0m\u001b[0;34m\u001b[0m\u001b[0m\n",
      "\u001b[0;31mValueError\u001b[0m: too many values to unpack (expected 4)"
     ]
    }
   ],
   "source": [
    "best_gini, best_index, left_mask, right_mask = get_split_for_dataset(X, y)\n",
    "print(best_gini, best_index, len(X[left_mask]))\n",
    "best_gini2, best_index2, left_mask2, right_mask2 = get_split_for_dataset(X, y[left_mask])\n",
    "print(best_gini2, best_index2, len(X[left_mask][left_mask2]))\n",
    "best_gini3, best_index3, left_mask3, right_mask3 = get_split_for_dataset(X[left_mask][left_mask2], y[left_mask][left_mask2])\n",
    "print(best_gini3, best_index3)\n"
   ]
  },
  {
   "cell_type": "code",
   "execution_count": null,
   "metadata": {},
   "outputs": [],
   "source": []
  },
  {
   "cell_type": "code",
   "execution_count": null,
   "metadata": {},
   "outputs": [],
   "source": []
  },
  {
   "cell_type": "code",
   "execution_count": null,
   "metadata": {},
   "outputs": [],
   "source": []
  },
  {
   "cell_type": "code",
   "execution_count": 41,
   "metadata": {},
   "outputs": [
    {
     "name": "stdout",
     "output_type": "stream",
     "text": [
      "previous gini: 0.75\n",
      "0.508767262485798 0 1012\n",
      "previous gini: 0.5144881969723007\n",
      "0.036791206581752396 4 515\n",
      "previous gini: 0.056887548308040436\n",
      "0.02278611356281249 3\n"
     ]
    }
   ],
   "source": [
    "best_gini, best_index, X_left, X_right, y_left, y_right = get_split_for_dataset(X, y)\n",
    "print(best_gini, best_index, len(X_left))\n",
    "best_gini2, best_index2, X_left2, X_right2, y_left2, y_right2= get_split_for_dataset(X_left, y_left)\n",
    "print(best_gini2, best_index2, len(X_left2))\n",
    "best_gini3, best_index3, X_left3, X_right3, y_left3, y_right3 = get_split_for_dataset(X_left2, y_left2)\n",
    "print(best_gini3, best_index3)\n"
   ]
  },
  {
   "cell_type": "code",
   "execution_count": null,
   "metadata": {},
   "outputs": [],
   "source": [
    "def grow_tree(X, y, max_depth = 2)"
   ]
  },
  {
   "cell_type": "code",
   "execution_count": null,
   "metadata": {},
   "outputs": [],
   "source": []
  },
  {
   "cell_type": "code",
   "execution_count": null,
   "metadata": {},
   "outputs": [],
   "source": []
  },
  {
   "cell_type": "code",
   "execution_count": null,
   "metadata": {},
   "outputs": [],
   "source": [
    "X.Shap"
   ]
  },
  {
   "cell_type": "code",
   "execution_count": 6,
   "metadata": {},
   "outputs": [
    {
     "name": "stdout",
     "output_type": "stream",
     "text": [
      "CPU times: user 536 µs, sys: 168 µs, total: 704 µs\n",
      "Wall time: 710 µs\n"
     ]
    },
    {
     "data": {
      "text/plain": [
       "Counter({1.0: 500, 2.0: 500, 3.0: 500, 4.0: 500})"
      ]
     },
     "execution_count": 6,
     "metadata": {},
     "output_type": "execute_result"
    }
   ],
   "source": [
    "%%time\n",
    "Counter(y)"
   ]
  },
  {
   "cell_type": "code",
   "execution_count": 7,
   "metadata": {},
   "outputs": [
    {
     "name": "stdout",
     "output_type": "stream",
     "text": [
      "CPU times: user 570 µs, sys: 178 µs, total: 748 µs\n",
      "Wall time: 752 µs\n"
     ]
    },
    {
     "data": {
      "text/plain": [
       "defaultdict(int, {1.0: 500, 2.0: 500, 3.0: 500, 4.0: 500})"
      ]
     },
     "execution_count": 7,
     "metadata": {},
     "output_type": "execute_result"
    }
   ],
   "source": [
    "%%time\n",
    "d = defaultdict(int)\n",
    "for yy in y:\n",
    "    d[yy]+=1\n",
    "d"
   ]
  },
  {
   "cell_type": "code",
   "execution_count": 23,
   "metadata": {},
   "outputs": [
    {
     "data": {
      "text/plain": [
       "array([500, 500, 500, 500])"
      ]
     },
     "execution_count": 23,
     "metadata": {},
     "output_type": "execute_result"
    }
   ],
   "source": [
    "np.array([*d.values()])"
   ]
  },
  {
   "cell_type": "code",
   "execution_count": 30,
   "metadata": {},
   "outputs": [
    {
     "data": {
      "text/plain": [
       "0.75"
      ]
     },
     "execution_count": 30,
     "metadata": {},
     "output_type": "execute_result"
    }
   ],
   "source": [
    "get_gini_importance(y)"
   ]
  },
  {
   "cell_type": "code",
   "execution_count": 8,
   "metadata": {},
   "outputs": [],
   "source": [
    "# for i in range(-70, -20):\n",
    "#     print(i, get_ginis_after_split(X[:,0], y, i))"
   ]
  },
  {
   "cell_type": "code",
   "execution_count": 43,
   "metadata": {},
   "outputs": [],
   "source": [
    "x_sort = np.sort(X[:,1])\n",
    "a=(x_sort[1:] + x_sort[:-1]) / 2"
   ]
  },
  {
   "cell_type": "code",
   "execution_count": 20,
   "metadata": {},
   "outputs": [
    {
     "data": {
      "text/plain": [
       "(0.20225674050939035, 0.12604218820810487)"
      ]
     },
     "execution_count": 20,
     "metadata": {},
     "output_type": "execute_result"
    }
   ],
   "source": [
    "mask = X[:,0]>=-54.5\n",
    "XX = X[:,0][mask]\n",
    "mask2 = XX < -44.5\n",
    "# get_ginis_after_split(X[:,0][mask], y[mask], -44.5)\n",
    "get_gini_importance(y[mask][mask2]), get_ginis_after_split(XX, y[mask], -44.5)"
   ]
  },
  {
   "cell_type": "code",
   "execution_count": 60,
   "metadata": {},
   "outputs": [
    {
     "name": "stdout",
     "output_type": "stream",
     "text": [
      "[(0.508767262485798, -54.5), (0.5111624649300466, -56.5), (0.5298413956541929, -56.5), (0.5815969026141384, -76.5), (0.6052432784137277, -77.5), (0.6378616433611275, -57.5), (0.7411891029651735, -53.5)]\n",
      "CPU times: user 239 ms, sys: 7.29 ms, total: 246 ms\n",
      "Wall time: 249 ms\n"
     ]
    }
   ],
   "source": [
    "%%time\n",
    "d = {}\n",
    "\n",
    "for i in range(X.shape[1]):\n",
    "    results.append(get_best_split(X[:, i], y))\n",
    "results.sort(key=lambda x: x[0])\n",
    "print(results)"
   ]
  },
  {
   "cell_type": "code",
   "execution_count": 71,
   "metadata": {},
   "outputs": [
    {
     "ename": "IndexError",
     "evalue": "boolean index did not match indexed array along dimension 0; dimension is 2000 but corresponding boolean dimension is 1012",
     "output_type": "error",
     "traceback": [
      "\u001b[0;31m---------------------------------------------------------------------------\u001b[0m",
      "\u001b[0;31mIndexError\u001b[0m                                Traceback (most recent call last)",
      "\u001b[0;32m<ipython-input-71-de3dc40d7ff3>\u001b[0m in \u001b[0;36m<module>\u001b[0;34m\u001b[0m\n\u001b[1;32m      3\u001b[0m     \u001b[0mmask\u001b[0m \u001b[0;34m=\u001b[0m \u001b[0mX\u001b[0m\u001b[0;34m[\u001b[0m\u001b[0;34m:\u001b[0m\u001b[0;34m,\u001b[0m\u001b[0;36m0\u001b[0m\u001b[0;34m]\u001b[0m\u001b[0;34m<\u001b[0m\u001b[0;34m-\u001b[0m\u001b[0;36m54.5\u001b[0m\u001b[0;34m\u001b[0m\u001b[0;34m\u001b[0m\u001b[0m\n\u001b[1;32m      4\u001b[0m     \u001b[0mx_slice\u001b[0m \u001b[0;34m=\u001b[0m \u001b[0mX\u001b[0m\u001b[0;34m[\u001b[0m\u001b[0;34m:\u001b[0m\u001b[0;34m,\u001b[0m\u001b[0mi\u001b[0m\u001b[0;34m]\u001b[0m\u001b[0;34m\u001b[0m\u001b[0;34m\u001b[0m\u001b[0m\n\u001b[0;32m----> 5\u001b[0;31m     \u001b[0mresults2\u001b[0m\u001b[0;34m.\u001b[0m\u001b[0mappend\u001b[0m\u001b[0;34m(\u001b[0m\u001b[0mget_best_split\u001b[0m\u001b[0;34m(\u001b[0m\u001b[0mx_slice\u001b[0m\u001b[0;34m[\u001b[0m\u001b[0mmask\u001b[0m\u001b[0;34m]\u001b[0m\u001b[0;34m,\u001b[0m \u001b[0my\u001b[0m\u001b[0;34m)\u001b[0m\u001b[0;34m)\u001b[0m\u001b[0;34m\u001b[0m\u001b[0;34m\u001b[0m\u001b[0m\n\u001b[0m\u001b[1;32m      6\u001b[0m \u001b[0mresults2\u001b[0m\u001b[0;34m.\u001b[0m\u001b[0msort\u001b[0m\u001b[0;34m(\u001b[0m\u001b[0mkey\u001b[0m\u001b[0;34m=\u001b[0m\u001b[0;32mlambda\u001b[0m \u001b[0mx\u001b[0m\u001b[0;34m:\u001b[0m \u001b[0mx\u001b[0m\u001b[0;34m[\u001b[0m\u001b[0;36m0\u001b[0m\u001b[0;34m]\u001b[0m\u001b[0;34m)\u001b[0m\u001b[0;34m\u001b[0m\u001b[0;34m\u001b[0m\u001b[0m\n\u001b[1;32m      7\u001b[0m \u001b[0mprint\u001b[0m\u001b[0;34m(\u001b[0m\u001b[0mresults2\u001b[0m\u001b[0;34m)\u001b[0m\u001b[0;34m\u001b[0m\u001b[0;34m\u001b[0m\u001b[0m\n",
      "\u001b[0;32m<ipython-input-58-75a7b0927f3c>\u001b[0m in \u001b[0;36mget_best_split\u001b[0;34m(X_slice, y)\u001b[0m\n\u001b[1;32m     19\u001b[0m     \u001b[0mbest_thresh\u001b[0m \u001b[0;34m=\u001b[0m \u001b[0;32mNone\u001b[0m\u001b[0;34m\u001b[0m\u001b[0;34m\u001b[0m\u001b[0m\n\u001b[1;32m     20\u001b[0m     \u001b[0;32mfor\u001b[0m \u001b[0mthresh\u001b[0m \u001b[0;32min\u001b[0m \u001b[0mthresholds\u001b[0m\u001b[0;34m:\u001b[0m\u001b[0;34m\u001b[0m\u001b[0;34m\u001b[0m\u001b[0m\n\u001b[0;32m---> 21\u001b[0;31m         \u001b[0mgini\u001b[0m \u001b[0;34m=\u001b[0m \u001b[0mget_ginis_after_split\u001b[0m\u001b[0;34m(\u001b[0m\u001b[0mX_slice\u001b[0m\u001b[0;34m,\u001b[0m \u001b[0my\u001b[0m\u001b[0;34m,\u001b[0m \u001b[0mthresh\u001b[0m\u001b[0;34m)\u001b[0m\u001b[0;34m\u001b[0m\u001b[0;34m\u001b[0m\u001b[0m\n\u001b[0m\u001b[1;32m     22\u001b[0m \u001b[0;31m#         print(gini, thresh)\u001b[0m\u001b[0;34m\u001b[0m\u001b[0;34m\u001b[0m\u001b[0;34m\u001b[0m\u001b[0m\n\u001b[1;32m     23\u001b[0m         \u001b[0;32mif\u001b[0m \u001b[0mgini\u001b[0m \u001b[0;34m<\u001b[0m \u001b[0mbest_gini\u001b[0m\u001b[0;34m:\u001b[0m\u001b[0;34m\u001b[0m\u001b[0;34m\u001b[0m\u001b[0m\n",
      "\u001b[0;32m<ipython-input-58-75a7b0927f3c>\u001b[0m in \u001b[0;36mget_ginis_after_split\u001b[0;34m(X_slice, y, threshold)\u001b[0m\n\u001b[1;32m      7\u001b[0m     \u001b[0mleft_mask\u001b[0m \u001b[0;34m=\u001b[0m \u001b[0mX_slice\u001b[0m \u001b[0;34m<\u001b[0m \u001b[0mthreshold\u001b[0m\u001b[0;34m\u001b[0m\u001b[0;34m\u001b[0m\u001b[0m\n\u001b[1;32m      8\u001b[0m     \u001b[0mright_mask\u001b[0m \u001b[0;34m=\u001b[0m \u001b[0mX_slice\u001b[0m \u001b[0;34m>=\u001b[0m \u001b[0mthreshold\u001b[0m\u001b[0;34m\u001b[0m\u001b[0;34m\u001b[0m\u001b[0m\n\u001b[0;32m----> 9\u001b[0;31m     \u001b[0my_left\u001b[0m \u001b[0;34m=\u001b[0m \u001b[0my\u001b[0m\u001b[0;34m[\u001b[0m\u001b[0mleft_mask\u001b[0m\u001b[0;34m]\u001b[0m\u001b[0;34m\u001b[0m\u001b[0;34m\u001b[0m\u001b[0m\n\u001b[0m\u001b[1;32m     10\u001b[0m     \u001b[0my_right\u001b[0m \u001b[0;34m=\u001b[0m \u001b[0my\u001b[0m\u001b[0;34m[\u001b[0m\u001b[0mright_mask\u001b[0m\u001b[0;34m]\u001b[0m\u001b[0;34m\u001b[0m\u001b[0;34m\u001b[0m\u001b[0m\n\u001b[1;32m     11\u001b[0m     \u001b[0mleft_gini\u001b[0m \u001b[0;34m=\u001b[0m \u001b[0mget_gini_importance\u001b[0m\u001b[0;34m(\u001b[0m\u001b[0my_left\u001b[0m\u001b[0;34m)\u001b[0m\u001b[0;34m\u001b[0m\u001b[0;34m\u001b[0m\u001b[0m\n",
      "\u001b[0;31mIndexError\u001b[0m: boolean index did not match indexed array along dimension 0; dimension is 2000 but corresponding boolean dimension is 1012"
     ]
    }
   ],
   "source": [
    "results2 = []\n",
    "for i in range(1,X.shape[1]):\n",
    "    mask = X[:,0]<-54.5\n",
    "    x_slice = X[:,i]\n",
    "    results2.append(get_best_split(x_slice[mask], y))\n",
    "results2.sort(key=lambda x: x[0])\n",
    "print(results2)"
   ]
  },
  {
   "cell_type": "code",
   "execution_count": 76,
   "metadata": {},
   "outputs": [
    {
     "data": {
      "text/plain": [
       "array([False, False, False, ..., False, False, False])"
      ]
     },
     "execution_count": 76,
     "metadata": {},
     "output_type": "execute_result"
    }
   ],
   "source": [
    "mask = X[:,0]<-54.5\n",
    "X[:,0][mask]>=54.5\n",
    "\n",
    "\n",
    "#trzeba to zrobić rekurencyjnie"
   ]
  },
  {
   "cell_type": "code",
   "execution_count": 53,
   "metadata": {},
   "outputs": [
    {
     "data": {
      "text/plain": [
       "{'feature_0': (0.508767262485798, -54.5),\n",
       " 'feature_1': (0.7411891029651735, -53.5),\n",
       " 'feature_2': (0.6378616433611275, -57.5),\n",
       " 'feature_3': (0.5298413956541929, -56.5),\n",
       " 'feature_4': (0.5111624649300466, -56.5),\n",
       " 'feature_5': (0.5815969026141384, -76.5),\n",
       " 'feature_6': (0.6052432784137277, -77.5)}"
      ]
     },
     "execution_count": 53,
     "metadata": {},
     "output_type": "execute_result"
    }
   ],
   "source": [
    "d"
   ]
  },
  {
   "cell_type": "code",
   "execution_count": 56,
   "metadata": {},
   "outputs": [
    {
     "name": "stdout",
     "output_type": "stream",
     "text": [
      "0.749624812406203 -73.5\n",
      "0.749624812406203 -73.0\n",
      "0.748496993987976 -72.5\n",
      "0.748496993987976 -72.0\n",
      "0.7473657802308078 -71.5\n",
      "0.7473657802308078 -71.0\n",
      "0.746766305589835 -70.5\n",
      "0.746766305589835 -70.0\n",
      "0.7457157258064517 -69.5\n",
      "0.7457157258064517 -69.0\n",
      "0.7449673683242946 -68.5\n",
      "0.7449673683242946 -68.0\n",
      "0.738785343443021 -67.5\n",
      "0.738785343443021 -67.0\n",
      "0.734196323092247 -66.5\n",
      "0.734196323092247 -66.0\n",
      "0.7266570823244551 -65.5\n",
      "0.7266570823244551 -65.0\n",
      "0.7152508248798632 -64.5\n",
      "0.7152508248798632 -64.0\n",
      "0.7051006949901937 -63.5\n",
      "0.7051006949901937 -63.0\n",
      "0.6869056277056277 -62.5\n",
      "0.6869056277056277 -62.0\n",
      "0.6575307983680092 -61.5\n",
      "0.6575307983680092 -61.0\n",
      "0.6349723874904653 -60.5\n",
      "0.6349723874904653 -60.0\n",
      "0.6144885171817691 -59.5\n",
      "0.6144885171817691 -59.0\n",
      "0.5816037598155122 -58.5\n",
      "0.5816037598155122 -58.0\n",
      "0.5526342464198252 -57.5\n",
      "0.5526342464198252 -57.0\n",
      "0.5292193886506682 -56.5\n",
      "0.5292193886506682 -56.0\n",
      "0.5130912124148981 -55.5\n",
      "0.5130912124148981 -55.0\n",
      "0.508767262485798 -54.5\n",
      "0.508767262485798 -54.0\n",
      "0.5132789765881736 -53.5\n",
      "0.5132789765881736 -53.0\n",
      "0.5285161807212828 -52.5\n",
      "0.5285161807212828 -52.0\n",
      "0.5512051508936181 -51.5\n",
      "0.5512051508936181 -51.0\n",
      "0.5651380042462845 -50.5\n",
      "0.5651380042462845 -50.0\n",
      "0.5738126505298977 -49.5\n",
      "0.5738126505298977 -49.0\n",
      "0.5715834841188577 -48.5\n",
      "0.5715834841188577 -48.0\n",
      "0.5689375625183073 -47.5\n",
      "0.5689375625183073 -47.0\n",
      "0.5590842212075089 -46.5\n",
      "0.5590842212075089 -46.0\n",
      "0.5467621966773695 -45.5\n",
      "0.5467621966773695 -45.0\n",
      "0.5423971326164874 -44.5\n",
      "0.5423971326164874 -44.0\n",
      "0.5484221466364324 -43.5\n",
      "0.5484221466364324 -43.0\n",
      "0.5608119509268934 -42.5\n",
      "0.5608119509268934 -42.0\n",
      "0.5780577750460971 -41.5\n",
      "0.5780577750460971 -41.0\n",
      "0.5958408679927668 -40.5\n",
      "0.5958408679927668 -40.0\n",
      "0.6243432574430824 -39.5\n",
      "0.6243432574430824 -39.0\n",
      "0.6408934707903781 -38.5\n",
      "0.6408934707903781 -38.0\n",
      "0.6662034463590882 -37.5\n",
      "0.6662034463590882 -37.0\n",
      "0.6891891891891891 -36.5\n",
      "0.6891891891891891 -36.0\n",
      "0.7088607594936709 -35.5\n",
      "0.7088607594936709 -35.0\n",
      "0.7199687987519501 -34.5\n",
      "0.7199687987519501 -34.0\n",
      "0.725206611570248 -30.5\n",
      "0.725206611570248 -27.0\n",
      "0.7264053635894792 -26.5\n",
      "0.7264053635894792 -26.0\n",
      "0.7272024729520866 -23.5\n",
      "0.727600411946447 -20.5\n",
      "0.727600411946447 -20.0\n",
      "0.7283950617283951 -19.5\n",
      "0.7283950617283951 -19.0\n",
      "0.7315573770491802 -18.5\n",
      "0.7315573770491802 -18.0\n",
      "0.7346938775510203 -17.5\n",
      "0.7346938775510203 -17.0\n",
      "0.73896499238965 -16.5\n",
      "0.73896499238965 -16.0\n",
      "0.740506329113924 -15.5\n",
      "0.740506329113924 -15.0\n",
      "0.7420414350682163 -14.5\n",
      "0.7420414350682163 -14.0\n",
      "0.7443324937027707 -13.5\n",
      "0.7443324937027707 -13.0\n",
      "0.7458521870286576 -12.5\n",
      "0.7458521870286576 -12.0\n",
      "0.7481203007518797 -11.5\n",
      "0.7481203007518797 -11.0\n",
      "0.7488733099649475 -10.5\n",
      "0.7488733099649475 -10.0\n"
     ]
    },
    {
     "data": {
      "text/plain": [
       "(0.508767262485798, -54.5)"
      ]
     },
     "execution_count": 56,
     "metadata": {},
     "output_type": "execute_result"
    }
   ],
   "source": [
    "get_best_split(X[:,0], y)"
   ]
  },
  {
   "cell_type": "code",
   "execution_count": null,
   "metadata": {},
   "outputs": [],
   "source": []
  }
 ],
 "metadata": {
  "kernelspec": {
   "display_name": "Python 3",
   "language": "python",
   "name": "python3"
  },
  "language_info": {
   "codemirror_mode": {
    "name": "ipython",
    "version": 3
   },
   "file_extension": ".py",
   "mimetype": "text/x-python",
   "name": "python",
   "nbconvert_exporter": "python",
   "pygments_lexer": "ipython3",
   "version": "3.6.8"
  }
 },
 "nbformat": 4,
 "nbformat_minor": 4
}
