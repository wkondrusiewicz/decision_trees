{
 "cells": [
  {
   "cell_type": "code",
   "execution_count": 1,
   "metadata": {},
   "outputs": [],
   "source": [
    "import numpy as np\n",
    "import pandas as pd\n",
    "import matplotlib.pyplot as plt\n",
    "\n",
    "from sklearn.metrics import accuracy_score, r2_score\n",
    "from sklearn.tree import DecisionTreeClassifier as skDTC\n",
    "from sklearn.tree import DecisionTreeRegressor as skDTR\n",
    "from sklearn.ensemble import RandomForestClassifier as skRFC\n",
    "from sklearn.ensemble import RandomForestRegressor as skRFR\n",
    "from sklearn.model_selection import train_test_split\n",
    "\n",
    "from decision_trees.tree import DecisionTreeClassifier, DecisionTreeRegressor\n",
    "from random_forest.forest import RandomForestRegressor, RandomForestClassifier\n",
    "from decision_trees.metrics import MeanSquaredError"
   ]
  },
  {
   "cell_type": "code",
   "execution_count": 2,
   "metadata": {},
   "outputs": [],
   "source": [
    "data_class = np.loadtxt('wifi_localization.txt')\n",
    "data_reg = pd.read_csv('BostonHousing.csv')\n",
    "X_reg, y_reg = data_reg.values[:,:-1], data_reg.values[:,-1]\n",
    "X_class, y_class = data_class[:,:-1], data_class[:,-1]"
   ]
  },
  {
   "cell_type": "code",
   "execution_count": 3,
   "metadata": {},
   "outputs": [],
   "source": [
    "X_train_reg, X_test_reg, y_train_reg, y_test_reg = train_test_split(X_reg, y_reg, test_size=0.25, random_state=42)\n",
    "X_train_class, X_test_class, y_train_class, y_test_class = train_test_split(X_class, y_class, test_size=0.25, random_state=42)"
   ]
  },
  {
   "cell_type": "code",
   "execution_count": null,
   "metadata": {},
   "outputs": [],
   "source": []
  },
  {
   "cell_type": "markdown",
   "metadata": {},
   "source": [
    "# Decision trees\n",
    "## Classification"
   ]
  },
  {
   "cell_type": "code",
   "execution_count": 4,
   "metadata": {},
   "outputs": [],
   "source": [
    "dtc = DecisionTreeClassifier(max_depth=2)\n",
    "skdtc = skDTC(max_depth=2)"
   ]
  },
  {
   "cell_type": "code",
   "execution_count": 5,
   "metadata": {},
   "outputs": [
    {
     "data": {
      "text/plain": [
       "DecisionTreeClassifier(class_weight=None, criterion='gini', max_depth=2,\n",
       "                       max_features=None, max_leaf_nodes=None,\n",
       "                       min_impurity_decrease=0.0, min_impurity_split=None,\n",
       "                       min_samples_leaf=1, min_samples_split=2,\n",
       "                       min_weight_fraction_leaf=0.0, presort=False,\n",
       "                       random_state=None, splitter='best')"
      ]
     },
     "execution_count": 5,
     "metadata": {},
     "output_type": "execute_result"
    }
   ],
   "source": [
    "dtc.fit(X_train_class, y_train_class)\n",
    "skdtc.fit(X_train_class, y_train_class)"
   ]
  },
  {
   "cell_type": "code",
   "execution_count": 6,
   "metadata": {},
   "outputs": [],
   "source": [
    "dtc_predictions_train = dtc.predict(X_train_class)\n",
    "skdtc_predictions_train = skdtc.predict(X_train_class)\n",
    "\n",
    "dtc_predictions_test = dtc.predict(X_test_class)\n",
    "skdtc_predictions_test = skdtc.predict(X_test_class)"
   ]
  },
  {
   "cell_type": "code",
   "execution_count": 7,
   "metadata": {},
   "outputs": [
    {
     "name": "stdout",
     "output_type": "stream",
     "text": [
      "Accuracy:\n",
      "TRAIN: own = 0.959, sklearn 0.959\n",
      "TEST own = 0.948, sklearn = 0.948\n"
     ]
    }
   ],
   "source": [
    "dtc_acc_train= accuracy_score(y_train_class, dtc_predictions_train)\n",
    "skdtc_acc_train = accuracy_score(y_train_class, skdtc_predictions_train)\n",
    "dtc_acc_test= accuracy_score(y_test_class, dtc_predictions_test)\n",
    "skdtc_acc_test = accuracy_score(y_test_class, skdtc_predictions_test)\n",
    "\n",
    "print(f'Accuracy:\\nTRAIN: own = {dtc_acc_train:.3f}, sklearn {skdtc_acc_train:.3f}\\nTEST own = {dtc_acc_test}, sklearn = {skdtc_acc_test}')"
   ]
  },
  {
   "cell_type": "code",
   "execution_count": 8,
   "metadata": {},
   "outputs": [],
   "source": [
    "dtc.draw_tree('viz/')"
   ]
  },
  {
   "cell_type": "markdown",
   "metadata": {},
   "source": [
    "## Visualization of own decision tree classifier\n",
    "\n",
    "![title](decision_tree_classification.png)"
   ]
  },
  {
   "cell_type": "markdown",
   "metadata": {},
   "source": [
    "## Regression"
   ]
  },
  {
   "cell_type": "code",
   "execution_count": 9,
   "metadata": {},
   "outputs": [],
   "source": [
    "dtr = DecisionTreeRegressor(max_depth=2)\n",
    "skdtr = skDTR(max_depth=2)"
   ]
  },
  {
   "cell_type": "code",
   "execution_count": 10,
   "metadata": {},
   "outputs": [
    {
     "data": {
      "text/plain": [
       "DecisionTreeRegressor(criterion='mse', max_depth=2, max_features=None,\n",
       "                      max_leaf_nodes=None, min_impurity_decrease=0.0,\n",
       "                      min_impurity_split=None, min_samples_leaf=1,\n",
       "                      min_samples_split=2, min_weight_fraction_leaf=0.0,\n",
       "                      presort=False, random_state=None, splitter='best')"
      ]
     },
     "execution_count": 10,
     "metadata": {},
     "output_type": "execute_result"
    }
   ],
   "source": [
    "dtr.fit(X_train_reg, y_train_reg)\n",
    "skdtr.fit(X_train_reg, y_train_reg)"
   ]
  },
  {
   "cell_type": "code",
   "execution_count": 11,
   "metadata": {},
   "outputs": [],
   "source": [
    "dtr_predictions_train = dtr.predict(X_train_reg)\n",
    "skdtr_predictions_train = skdtr.predict(X_train_reg)\n",
    "\n",
    "dtr_predictions_test = dtr.predict(X_test_reg)\n",
    "skdtr_predictions_test = skdtr.predict(X_test_reg)"
   ]
  },
  {
   "cell_type": "code",
   "execution_count": 12,
   "metadata": {},
   "outputs": [
    {
     "name": "stdout",
     "output_type": "stream",
     "text": [
      "r2_score:\n",
      "TRAIN: own = 0.709, sklearn 0.709\n",
      "TEST own = 0.6067947547484775, sklearn = 0.6370379660938668\n"
     ]
    }
   ],
   "source": [
    "dtr_r2_train= r2_score(y_train_reg, dtr_predictions_train)\n",
    "skdtr_r2_train = r2_score(y_train_reg, skdtr_predictions_train)\n",
    "dtr_r2_test= r2_score(y_test_reg, dtr_predictions_test)\n",
    "skdtr_r2_test = r2_score(y_test_reg, skdtr_predictions_test)\n",
    "\n",
    "print(f'r2_score:\\nTRAIN: own = {dtr_r2_train:.3f}, sklearn {skdtr_r2_train:.3f}\\nTEST own = {dtr_r2_test}, sklearn = {skdtr_r2_test}')"
   ]
  },
  {
   "cell_type": "code",
   "execution_count": 13,
   "metadata": {},
   "outputs": [],
   "source": [
    "dtr.draw_tree('viz/')"
   ]
  },
  {
   "cell_type": "markdown",
   "metadata": {},
   "source": [
    "## Visualization of decision tree regressor\n",
    "\n",
    "![title](decision_tree_regression.png)"
   ]
  },
  {
   "cell_type": "code",
   "execution_count": null,
   "metadata": {},
   "outputs": [],
   "source": []
  },
  {
   "cell_type": "markdown",
   "metadata": {},
   "source": [
    "# Random Forests"
   ]
  },
  {
   "cell_type": "markdown",
   "metadata": {},
   "source": [
    "## Classification"
   ]
  },
  {
   "cell_type": "code",
   "execution_count": 14,
   "metadata": {},
   "outputs": [],
   "source": [
    "rfc = RandomForestClassifier(X_train_class, y_train_class, n_trees=20, max_depth=2, rows_percentage=1)\n",
    "skrfc = skRFC(max_depth=2,n_estimators=20)"
   ]
  },
  {
   "cell_type": "code",
   "execution_count": 15,
   "metadata": {},
   "outputs": [
    {
     "data": {
      "text/plain": [
       "RandomForestClassifier(bootstrap=True, class_weight=None, criterion='gini',\n",
       "                       max_depth=2, max_features='auto', max_leaf_nodes=None,\n",
       "                       min_impurity_decrease=0.0, min_impurity_split=None,\n",
       "                       min_samples_leaf=1, min_samples_split=2,\n",
       "                       min_weight_fraction_leaf=0.0, n_estimators=20,\n",
       "                       n_jobs=None, oob_score=False, random_state=None,\n",
       "                       verbose=0, warm_start=False)"
      ]
     },
     "execution_count": 15,
     "metadata": {},
     "output_type": "execute_result"
    }
   ],
   "source": [
    "rfc.fit()\n",
    "skrfc.fit(X_train_class, y_train_class)"
   ]
  },
  {
   "cell_type": "code",
   "execution_count": 16,
   "metadata": {},
   "outputs": [],
   "source": [
    "rfc_predictions_train = rfc.predict(X_train_class)\n",
    "skrfc_predictions_train = skrfc.predict(X_train_class)\n",
    "\n",
    "rfc_predictions_test = rfc.predict(X_test_class)\n",
    "skrfc_predictions_test = skrfc.predict(X_test_class)"
   ]
  },
  {
   "cell_type": "code",
   "execution_count": 17,
   "metadata": {},
   "outputs": [
    {
     "name": "stdout",
     "output_type": "stream",
     "text": [
      "Accuracy:\n",
      "TRAIN: own = 0.798, sklearn 0.961\n",
      "TEST own = 0.766, sklearn = 0.96\n"
     ]
    }
   ],
   "source": [
    "rfc_acc_train= accuracy_score(y_train_class, rfc_predictions_train)\n",
    "skrfc_acc_train = accuracy_score(y_train_class, skrfc_predictions_train)\n",
    "rfc_acc_test= accuracy_score(y_test_class, rfc_predictions_test)\n",
    "skrfc_acc_test = accuracy_score(y_test_class, skrfc_predictions_test)\n",
    "\n",
    "print(f'Accuracy:\\nTRAIN: own = {rfc_acc_train:.3f}, sklearn {skrfc_acc_train:.3f}\\nTEST own = {rfc_acc_test}, sklearn = {skrfc_acc_test}')"
   ]
  },
  {
   "cell_type": "code",
   "execution_count": null,
   "metadata": {},
   "outputs": [],
   "source": []
  },
  {
   "cell_type": "markdown",
   "metadata": {},
   "source": [
    "## Regression"
   ]
  },
  {
   "cell_type": "code",
   "execution_count": 5,
   "metadata": {},
   "outputs": [],
   "source": [
    "rfr = RandomForestRegressor(X_train_reg, y_train_reg, n_trees=20, max_depth=2, rows_percentage=1, scorer=MeanSquaredError)\n",
    "skrfr = skRFR(max_depth=2,n_estimators=20)"
   ]
  },
  {
   "cell_type": "code",
   "execution_count": 6,
   "metadata": {},
   "outputs": [
    {
     "data": {
      "text/plain": [
       "RandomForestRegressor(bootstrap=True, criterion='mse', max_depth=2,\n",
       "                      max_features='auto', max_leaf_nodes=None,\n",
       "                      min_impurity_decrease=0.0, min_impurity_split=None,\n",
       "                      min_samples_leaf=1, min_samples_split=2,\n",
       "                      min_weight_fraction_leaf=0.0, n_estimators=20,\n",
       "                      n_jobs=None, oob_score=False, random_state=None,\n",
       "                      verbose=0, warm_start=False)"
      ]
     },
     "execution_count": 6,
     "metadata": {},
     "output_type": "execute_result"
    }
   ],
   "source": [
    "rfr.fit()\n",
    "skrfr.fit(X_train_reg, y_train_reg)"
   ]
  },
  {
   "cell_type": "code",
   "execution_count": 7,
   "metadata": {},
   "outputs": [],
   "source": [
    "rfr_predictions_train = rfr.predict(X_train_reg)\n",
    "skrfr_predictions_train = skrfr.predict(X_train_reg)\n",
    "\n",
    "rfr_predictions_test = rfr.predict(X_test_reg)\n",
    "skrfr_predictions_test = skrfr.predict(X_test_reg)"
   ]
  },
  {
   "cell_type": "code",
   "execution_count": 8,
   "metadata": {},
   "outputs": [
    {
     "name": "stdout",
     "output_type": "stream",
     "text": [
      "Accuracy:\n",
      "TRAIN: own = 0.230, sklearn 0.770\n",
      "TEST own = 0.272609660372924, sklearn = 0.6919451264916823\n"
     ]
    }
   ],
   "source": [
    "rfr_r2_train= r2_score(y_train_reg, rfr_predictions_train)\n",
    "skrfr_r2_train = r2_score(y_train_reg, skrfr_predictions_train)\n",
    "rfr_r2_test= r2_score(y_test_reg, rfr_predictions_test)\n",
    "skrfr_r2_test = r2_score(y_test_reg, skrfr_predictions_test)\n",
    "\n",
    "print(f'Accuracy:\\nTRAIN: own = {rfr_r2_train:.3f}, sklearn {skrfr_r2_train:.3f}\\nTEST own = {rfr_r2_test}, sklearn = {skrfr_r2_test}')"
   ]
  },
  {
   "cell_type": "code",
   "execution_count": null,
   "metadata": {},
   "outputs": [],
   "source": []
  }
 ],
 "metadata": {
  "kernelspec": {
   "display_name": "Python 3",
   "language": "python",
   "name": "python3"
  },
  "language_info": {
   "codemirror_mode": {
    "name": "ipython",
    "version": 3
   },
   "file_extension": ".py",
   "mimetype": "text/x-python",
   "name": "python",
   "nbconvert_exporter": "python",
   "pygments_lexer": "ipython3",
   "version": "3.6.8"
  }
 },
 "nbformat": 4,
 "nbformat_minor": 4
}
